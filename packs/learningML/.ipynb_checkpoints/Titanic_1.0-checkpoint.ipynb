{
 "cells": [
  {
   "cell_type": "markdown",
   "metadata": {},
   "source": [
    "All the code is taken from https://www.kaggle.com/ldfreeman3/a-data-science-framework-to-achieve-99-accuracy"
   ]
  },
  {
   "cell_type": "code",
   "execution_count": null,
   "metadata": {},
   "outputs": [],
   "source": [
    "import sys\n",
    "import pandas as pd \n",
    "import numpy as np\n",
    "import scipy as sp\n",
    "import sklearn \n",
    "import matplotlib\n",
    "import IPython\n",
    "\n",
    "import time \n",
    "import random\n",
    "\n",
    "import warnings\n",
    "warnings.filterwarnings('ignore')\n",
    "\n",
    "print('sys version: {}'.format(sys.version))\n",
    "print('pandas version: {}'.format(pd.__version__))\n",
    "print('numpy version: {}'.format(np.__version__))\n",
    "print('scipy version: {}'.format(sp.__version__))\n",
    "print('skelearn version: {}'.format(sklearn.__version__))\n",
    "print('matplotlib version: {}'.format(matplotlib.__version__))\n",
    "print('IPython version: {}'.format(IPython.__version__))\n",
    "\n",
    "print('-'*25)\n",
    "\n",
    "from subprocess import check_output\n",
<<<<<<< HEAD
    "print(check_output(['ls', '/home/ginkobab/Documents/ML/Kaggle/titanic']).decode('utf-8'))"
=======
    "print(check_output(['ls', '/home/ginkobab/Desktop/titanic']).decode('utf-8'))"
>>>>>>> d48ee84e7e18e7ca02f6e786a42138e8ced50a5a
   ]
  },
  {
   "cell_type": "code",
   "execution_count": null,
   "metadata": {},
   "outputs": [],
   "source": [
    "from sklearn import tree, linear_model, gaussian_process, ensemble, naive_bayes, neighbors, svm, discriminant_analysis\n",
    "from sklearn.preprocessing import OneHotEncoder, LabelEncoder\n",
    "from sklearn import feature_selection \n",
    "from sklearn import model_selection\n",
    "from sklearn import metrics\n",
    "\n",
    "import matplotlib.pyplot as plt\n",
    "import matplotlib.pylab as pylab\n",
    "import matplotlib as mpl\n",
    "\n",
    "import seaborn as sns\n",
    "from pandas.tools.plotting import scatter_matrix\n",
    "\n",
    "%matplotlib inline\n",
    "mpl.style.use('ggplot')\n",
    "sns.set_style('white')\n",
    "pylab.rcParams['figure.figsize'] = 12,8"
   ]
  },
  {
   "cell_type": "code",
   "execution_count": null,
   "metadata": {},
   "outputs": [],
   "source": [
<<<<<<< HEAD
    "data_raw = pd.read_csv('/home/ginkobab/Documents/ML/Kaggle/titanic/train.csv')\n",
    "data_val = pd.read_csv('/home/ginkobab/Documents/ML/Kaggle/titanic/train.csv')\n",
=======
    "data_raw = pd.read_csv('/home/ginkobab/Desktop/titanic/train.csv')\n",
    "data_val = pd.read_csv('/home/ginkobab/Desktop/titanic/train.csv')\n",
>>>>>>> d48ee84e7e18e7ca02f6e786a42138e8ced50a5a
    "\n",
    "data1 = data_raw.copy(deep = True)\n",
    "\n",
    "data_cleaner = [data1, data_val]\n",
    "\n",
    "data_raw.info()\n",
    "\n",
    "\n",
    "data_raw.sample(10)"
   ]
  },
  {
   "cell_type": "code",
   "execution_count": null,
   "metadata": {},
   "outputs": [],
   "source": [
    "print('Train data null values:', data1.isnull().sum())\n",
    "print(10*'-')\n",
    "print('Test data null values:', data_val.isnull().sum())\n",
    "print(10*'-')\n",
    "\n",
    "data_raw.describe(include='all')"
   ]
  },
  {
   "cell_type": "code",
   "execution_count": null,
   "metadata": {},
   "outputs": [],
   "source": [
    "for dataset in data_cleaner:\n",
    "    dataset['Age'].fillna(dataset['Age'].median(), inplace = True)\n",
    "    \n",
    "    dataset['Embarked'].fillna(dataset['Embarked'].mode()[0], inplace = True)\n",
    "                                       \n",
    "drop_column = ['PassengerId', 'Ticket', 'Cabin']\n",
    "data1.drop(drop_column, axis=1, inplace=True)\n",
    "print('Train data null values:', data1.isnull().sum())\n",
    "print(10*'-')\n",
    "print('Test data null values:', data_val.isnull().sum())"
   ]
  },
  {
   "cell_type": "code",
   "execution_count": null,
   "metadata": {},
   "outputs": [],
   "source": [
    "for dataset in data_cleaner:\n",
    "    dataset['Family_Size'] = dataset['SibSp'] + dataset['Parch'] + 1\n",
    "    dataset['Title'] = dataset['Name'].str.split(', ', expand = True)[1].str.split('.', expand = True)[0]\n",
    "    dataset['IsAlone'] = 1\n",
    "    dataset['IsAlone'].loc[dataset['Family_Size']>1] = 0\n",
    "\n",
    "    dataset['FareBin'] = pd.qcut(dataset['Fare'], 4)\n",
    "    dataset['AgeBin'] = pd.cut(dataset['Age'].astype(int), 5)\n",
    "    \n",
    "    \n",
    "stats_min = 10\n",
    "title_names = (data1['Title'].value_counts() < stats_min)\n",
    "data1['Title'] = data1['Title'].apply(lambda x: 'Misc' if title_names.loc[x] == True else x)\n",
    "\n",
    "print(data1['Title'].value_counts())\n",
    "print('-'*10)\n",
    "\n",
    "data1.info()\n",
    "print('-'*10)\n",
    "data_val.info()\n",
    "print('-'*10)\n",
    "data1.sample(10)\n"
   ]
  },
  {
   "cell_type": "code",
   "execution_count": null,
   "metadata": {},
   "outputs": [],
   "source": [
    "label = LabelEncoder()\n",
    "for dataset in data_cleaner:\n",
    "    dataset['Sex_Code'] = label.fit_transform(dataset['Sex'])\n",
    "    dataset['Embarked_Code'] = label.fit_transform(dataset['Embarked'])\n",
    "    dataset['Title_Code'] = label.fit_transform(dataset['Title'])\n",
    "    dataset['FareBin_Code'] = label.fit_transform(dataset['FareBin'])\n",
    "    dataset['AgeBin_Code'] = label.fit_transform(dataset['AgeBin'])\n",
    "    \n",
    "Target = ['Survived']\n",
    "\n",
    "data1_x = ['Pclass', 'Sex', 'Embarked', 'Title', 'SibSp', 'Parch', 'Fare', 'Family_Size', 'IsAlone',]\n",
    "data1_x_calc = ['Sex_Code', 'Pclass', 'Embarked_Code', 'Title_Code', 'SibSp', 'Parch', 'Age', 'Fare']\n",
    "data1_xy = Target + data1_x\n",
    "print('Original X and y: ', data1_xy, '\\n')\n",
    "\n",
    "data1_x_bin = ['Sex_Code', 'Pclass', 'Embarked_Code', 'Title_Code', 'FareBin_Code','AgeBin_Code']\n",
    "data1_xy_bin = Target + data1_x_bin\n",
    "print('Bin X and y: ', data1_xy_bin, '\\n')\n",
    "\n",
    "data1_dummy = pd.get_dummies(data1[data1_x])\n",
    "data1_x_dummy = data1_dummy.columns.tolist()\n",
    "data1_xy_dummy = Target + data1_x_dummy\n",
    "print('Dummy X and y', data1_xy_dummy, '\\n')\n",
    "\n",
    "data1_dummy.head(5)"
   ]
  },
  {
   "cell_type": "code",
   "execution_count": null,
   "metadata": {},
   "outputs": [],
   "source": [
    "#Double Check stuff\n",
    "print('Null val in train set')\n",
    "print(data1.isnull().sum())\n",
    "print('-'*25)\n",
    "data1.info()\n",
    "print('-'*25, '\\n')\n",
    "print('Null val in test set')\n",
    "print(data_val.isnull().sum())\n",
    "print('-'*25)\n",
    "data_val.info()\n",
    "\n",
    "data_raw.describe()"
   ]
  },
  {
   "cell_type": "code",
   "execution_count": null,
   "metadata": {},
   "outputs": [],
   "source": [
    "train1_x, test1_x, train1_y, test1_y = model_selection.train_test_split(data1[data1_x], data1[Target], random_state = 0)\n",
    "train1_x_bin, test1_x_bin, train1_y_bin, test1_y_bin = model_selection.train_test_split(data1[data1_x_bin], data1[Target], random_state = 0)\n",
    "train1_x_dummy, test1_x_dummy, train1_y_dummy,test1_y_dummy = model_selection.train_test_split(data1_dummy[data1_x_dummy], data1[Target], random_state = 0)\n",
    "\n",
    "print(\"Data1 Shape: {}\".format(data1.shape))\n",
    "print(\"Train1 Shape: {}\".format(train1_x.shape))\n",
    "print(\"Test1 Shape: {}\".format(test1_x.shape))\n",
    "\n",
    "train1_x_bin.head()"
   ]
  },
  {
   "cell_type": "code",
<<<<<<< HEAD
   "execution_count": null,
   "metadata": {},
   "outputs": [],
=======
   "execution_count": 18,
   "metadata": {},
   "outputs": [
    {
     "name": "stdout",
     "output_type": "stream",
     "text": [
      "Showing Survival Correlation for  Pclass\n",
      "        Survived\n",
      "Pclass          \n",
      "1       0.629630\n",
      "2       0.472826\n",
      "3       0.242363\n",
      "----------\n",
      "Showing Survival Correlation for  Sex\n",
      "        Survived\n",
      "Sex             \n",
      "female  0.742038\n",
      "male    0.188908\n",
      "----------\n",
      "Showing Survival Correlation for  Embarked\n",
      "          Survived\n",
      "Embarked          \n",
      "C         0.553571\n",
      "Q         0.389610\n",
      "S         0.339009\n",
      "----------\n",
      "Showing Survival Correlation for  Title\n",
      "        Survived\n",
      "Title           \n",
      "Master  0.575000\n",
      "Misc    0.444444\n",
      "Miss    0.697802\n",
      "Mr      0.156673\n",
      "Mrs     0.792000\n",
      "----------\n",
      "Showing Survival Correlation for  SibSp\n",
      "       Survived\n",
      "SibSp          \n",
      "0      0.345395\n",
      "1      0.535885\n",
      "2      0.464286\n",
      "3      0.250000\n",
      "4      0.166667\n",
      "5      0.000000\n",
      "8      0.000000\n",
      "----------\n",
      "Showing Survival Correlation for  Parch\n",
      "       Survived\n",
      "Parch          \n",
      "0      0.343658\n",
      "1      0.550847\n",
      "2      0.500000\n",
      "3      0.600000\n",
      "4      0.000000\n",
      "5      0.200000\n",
      "6      0.000000\n",
      "----------\n",
      "Showing Survival Correlation for  Family_Size\n",
      "             Survived\n",
      "Family_Size          \n",
      "1            0.303538\n",
      "2            0.552795\n",
      "3            0.578431\n",
      "4            0.724138\n",
      "5            0.200000\n",
      "6            0.136364\n",
      "7            0.333333\n",
      "8            0.000000\n",
      "11           0.000000\n",
      "----------\n",
      "Showing Survival Correlation for  IsAlone\n",
      "         Survived\n",
      "IsAlone          \n",
      "0        0.505650\n",
      "1        0.303538\n",
      "----------\n"
     ]
    }
   ],
>>>>>>> d48ee84e7e18e7ca02f6e786a42138e8ced50a5a
   "source": [
    "for x in data1_x:\n",
    "    if data1[x].dtype != 'float64':\n",
    "        print('Showing Survival Correlation for ', x)\n",
    "        print(data1[[x, Target[0]]].groupby(x).mean()) \n",
    "        print(10*'-')"
   ]
  },
  {
   "cell_type": "code",
   "execution_count": null,
   "metadata": {},
   "outputs": [],
<<<<<<< HEAD
   "source": [
    "plt.figure(figsize = [16,12])\n",
    "\n",
    "plt.subplot(231)\n",
    "plt.boxplot(data1['Fare'], showmeans = True, meanline = True)\n",
    "plt.title('Fare Boxplot')\n",
    "plt.ylabel('Fare ($)')\n",
    "\n",
    "plt.subplot(232)\n",
    "plt.boxplot(data1['Age'], showmeans = True, meanline = True)\n",
    "plt.title('Age Boxplot')\n",
    "plt.ylabel('Age (Years)')\n",
    "\n",
    "plt.subplot(233)\n",
    "plt.boxplot(data1['Family_Size'], showmeans = True, meanline = True)\n",
    "plt.title('Family Size Boxplot')\n",
    "plt.ylabel('Family Size (#)')\n",
    "\n",
    "plt.subplot(234)\n",
    "plt.hist(x = [data1[data1['Survived'] == 1]['Fare'], data1[data1['Survived'] == 0]['Fare']], color=('g', 'r'),\n",
    "        label = ['Survived', 'Died'])\n",
    "plt.title('Fare Histogram by Survived')\n",
    "plt.xlabel('Fare ($)')\n",
    "plt.ylabel('Passengers (#)')\n",
    "plt.legend()\n",
    "\n",
    "plt.subplot(235)\n",
    "plt.hist(x = [data1[data1['Survived'] == 1]['Age'], data1[data1['Survived'] == 0]['Age']], color = ['g','r'], \n",
    "        label = ['Survived', 'Died'])\n",
    "plt.title(\"Age Histogram by Survived\")\n",
    "plt.xlabel('Age (years)')\n",
    "plt.ylabel('Passengers (#)')\n",
    "plt.legend()\n",
    "\n",
    "plt.subplot(236)\n",
    "plt.hist(x = [data1[data1['Survived'] == 1]['Family_Size'], data1[data1['Survived'] == 0]['Family_Size']], \n",
    "        color = ['g', 'r'], label = ['Survived', 'Died'])\n",
    "plt.title('Family Size Histogram by Survived')\n",
    "plt.xlabel('Family Size (#)')\n",
    "plt.ylabel('Passengers (#)')\n",
    "plt.legend()"
   ]
  },
  {
   "cell_type": "code",
   "execution_count": null,
   "metadata": {},
   "outputs": [],
   "source": [
    "fig, saxis = plt.subplots(1,3,figsize = [16, 6])\n",
    "\n",
    "sns.lineplot(x = 'Fare', y = data1['Fare'].value_counts(), data = data1, ax = saxis[0])\n",
    "sns.lineplot(x = 'Age', y = data1['Age'].value_counts(), data = data1, ax = saxis[1])\n",
    "sns.lineplot(x = 'Family_Size', y = data1['Family_Size'].value_counts(), data = data1, ax = saxis[2])\n"
   ]
  },
  {
   "cell_type": "code",
   "execution_count": null,
   "metadata": {},
   "outputs": [],
   "source": [
    "fig, saxis = plt.subplots(2,3,figsize = [16,12])\n",
    "\n",
    "sns.barplot(x = 'Embarked', y = 'Survived', data = data1, ax = saxis[0,0])\n",
    "sns.barplot(x = 'Pclass', y = 'Survived', order = [1,2,3], data = data1, ax = saxis[0,1])\n",
    "sns.barplot(x = 'IsAlone', y = 'Survived', order = [0,1], data = data1, ax = saxis[0,2])\n",
    "\n",
    "sns.pointplot(x = 'FareBin', y = 'Survived', data = data1, ax = saxis[1,0])\n",
    "sns.pointplot(x = 'AgeBin', y = 'Survived', data = data1, ax = saxis[1,1])\n",
    "sns.pointplot(x = 'Family_Size', y = 'Survived', data = data1, ax = saxis[1,2])"
   ]
  },
  {
   "cell_type": "code",
   "execution_count": null,
   "metadata": {},
   "outputs": [],
=======
>>>>>>> d48ee84e7e18e7ca02f6e786a42138e8ced50a5a
   "source": []
  }
 ],
 "metadata": {
  "kernelspec": {
   "display_name": "Python 3",
   "language": "python",
   "name": "python3"
  },
  "language_info": {
   "codemirror_mode": {
    "name": "ipython",
    "version": 3
   },
   "file_extension": ".py",
   "mimetype": "text/x-python",
   "name": "python",
   "nbconvert_exporter": "python",
   "pygments_lexer": "ipython3",
   "version": "3.6.7"
  }
 },
 "nbformat": 4,
 "nbformat_minor": 2
}
